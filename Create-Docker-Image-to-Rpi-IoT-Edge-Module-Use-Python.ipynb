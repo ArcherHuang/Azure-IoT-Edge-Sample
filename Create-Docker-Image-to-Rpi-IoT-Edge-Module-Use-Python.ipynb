{
 "cells": [
  {
   "cell_type": "markdown",
   "metadata": {},
   "source": [
    "# 1. 建立與設定 Raspberry Pi Docker、Azure IoT Hub、Azure IoT Edge、Azure Container Registry"
   ]
  },
  {
   "cell_type": "code",
   "execution_count": null,
   "metadata": {},
   "outputs": [],
   "source": [
    "# 1.1 更新套件\n",
    "!sudo apt-get update"
   ]
  },
  {
   "cell_type": "code",
   "execution_count": null,
   "metadata": {},
   "outputs": [],
   "source": [
    "# 1.2 安裝 Docker\n",
    "!sudo apt install -y docker.io"
   ]
  },
  {
   "cell_type": "code",
   "execution_count": null,
   "metadata": {},
   "outputs": [],
   "source": [
    "# 1.3 安裝 Azure CLI\n",
    "!curl -sL https://aka.ms/InstallAzureCLIDeb | sudo bash"
   ]
  },
  {
   "cell_type": "code",
   "execution_count": null,
   "metadata": {},
   "outputs": [],
   "source": [
    "# 1.4 登入 Azure\n",
    "!az login"
   ]
  },
  {
   "cell_type": "code",
   "execution_count": null,
   "metadata": {},
   "outputs": [],
   "source": [
    "# 1.5 安裝 azure-cli-iot-ext\n",
    "!az extension add --name azure-cli-iot-ext"
   ]
  },
  {
   "cell_type": "code",
   "execution_count": null,
   "metadata": {},
   "outputs": [],
   "source": [
    "# 1.6 相關資訊設定\n",
    "# 設定資源群組所在位置\n",
    "resource_group_location=\"westus\"\n",
    "\n",
    "# 設定資源群組名稱\n",
    "date=\"$(date -d '8hour' +'%Y%m%d')\"\n",
    "resource_group=\"test\"+date\n",
    "\n",
    "# 設定 IoT Hub 名稱\n",
    "tmp=!cat /sys/class/net/eth0/address | sed -e \"s/://g\"\n",
    "hub_name=\"for-rpi-\"+date+tmp[0]\n",
    "\n",
    "# 設定 Device ID\n",
    "device_id=\"rpi-edge-no-1\"\n",
    "\n",
    "# 設定 Container Registry 名稱\n",
    "container_registry_name=\"rpiregistry\"+date+tmp[0]\n",
    "acr_url=container_registry_name+\".azurecr.io\"\n",
    "\n",
    "# 設定 module01、module02、module03、module04 與 module05 名稱\n",
    "module01_name=\"module01\"\n",
    "module02_name=\"module02\"\n",
    "module03_name=\"module03\"\n",
    "module04_name=\"module04\"\n",
    "module05_name=\"module05\"\n",
    "\n",
    "# 設定 module01、module02、module03、module04 與 module05 版號\n",
    "module01_version=\"0.1\"\n",
    "module02_version=\"0.1\"\n",
    "module03_version=\"0.1\"\n",
    "module04_version=\"0.1\"\n",
    "module05_version=\"0.1\""
   ]
  },
  {
   "cell_type": "code",
   "execution_count": null,
   "metadata": {},
   "outputs": [],
   "source": [
    "# 1.7 新建資源群組\n",
    "!az group create -l $resource_group_location -n $resource_group"
   ]
  },
  {
   "cell_type": "code",
   "execution_count": null,
   "metadata": {},
   "outputs": [],
   "source": [
    "# 1.8 建立 IoT Hub\n",
    "!az iot hub create --resource-group $resource_group --name $hub_name --sku S1"
   ]
  },
  {
   "cell_type": "code",
   "execution_count": null,
   "metadata": {},
   "outputs": [],
   "source": [
    "# 1.9 建立 IoT Edge\n",
    "!az iot hub device-identity create --hub-name $hub_name --device-id $device_id --edge-enabled"
   ]
  },
  {
   "cell_type": "code",
   "execution_count": null,
   "metadata": {},
   "outputs": [],
   "source": [
    "# 1.10 取得 Azure IoT Edge 的 Connection String\n",
    "!az iot hub device-identity show-connection-string --resource-group $resource_group --device-id $device_id --hub-name $hub_name"
   ]
  },
  {
   "cell_type": "markdown",
   "metadata": {},
   "source": [
    "### 在 Raspberry Pi 安裝 Azure IoT Edge\n",
    "* Ref [安裝 Azure IoT Edge 於 Raspberry Pi 4](https://learningsky.io/install-azure-iot-edge-on-raspberry-pi-4/)\n",
    "\n",
    "### 在 Raspberry Pi 的終端機輸入下方指令\n",
    "\n",
    "* 開啟 Raspberry Pi 中的 `config.yaml` 設定檔以修改 `connection string`\n",
    "\n",
    "  * sudo nano /etc/iotedge/config.yaml\n",
    "    ```\n",
    "     provisioning:\n",
    "     source: \"manual\"\n",
    "     device_connection_string: \"<ADD DEVICE CONNECTION STRING HERE>\"\n",
    "    ``` \n",
    "* 存檔與離開\n",
    "  * CTRL + X, Y, Enter\n",
    "\n",
    "* 重新啟動 IoT Edge\n",
    "  * sudo systemctl restart iotedge    "
   ]
  },
  {
   "cell_type": "code",
   "execution_count": null,
   "metadata": {},
   "outputs": [],
   "source": [
    "# 1.11 建立 Azure Container Registry\n",
    "!az acr create --resource-group $resource_group --name $container_registry_name --sku Basic"
   ]
  },
  {
   "cell_type": "code",
   "execution_count": null,
   "metadata": {},
   "outputs": [],
   "source": [
    "# 1.12 啟用 Azure Container Registry 的 Admin user\n",
    "!az acr update --name $container_registry_name --admin-enabled true"
   ]
  },
  {
   "cell_type": "code",
   "execution_count": null,
   "metadata": {},
   "outputs": [],
   "source": [
    "# 1.13 取得 Azure Container Registry 的 name 與 password\n",
    "registry_name = !az acr list --resource-group $resource_group | grep -m 1 -o '\"name\": \"[^\"]*' | grep -o '[^\"]*$'\n",
    "username = !az acr credential show --name $container_registry_name | grep -o '\"username\": \"[^\"]*' | grep -o '[^\"]*$'\n",
    "password = !az acr credential show --name $container_registry_name | grep -m 1 -o '\"value\": \"[^\"]*' | grep -o '[^\"]*$'"
   ]
  },
  {
   "cell_type": "markdown",
   "metadata": {},
   "source": [
    "# 2. Case1 - 設定與部署 Module01 API 程式"
   ]
  },
  {
   "cell_type": "code",
   "execution_count": null,
   "metadata": {},
   "outputs": [],
   "source": [
    "# 2.1 替換 deployment-1-temp.json 中的文字並存檔成 deployment-1.json\n",
    "file = open('./deployment-1-temp.json')\n",
    "contents = file.read()\n",
    "contents = contents.replace('__ACR_REGISTRY_NAME', registry_name[0])\n",
    "contents = contents.replace('__ACR_REGISTRY_USER_NAME', username[0])\n",
    "contents = contents.replace('__ACR_REGISTRY_PASSWORD', password[0])\n",
    "contents = contents.replace('__MODULE01_NAME', module01_name)\n",
    "contents = contents.replace('__MODULE01_VERSION', module01_version)\n",
    "\n",
    "with open('./deployment-1.json', 'wt', encoding='utf-8') as output_file:\n",
    "    output_file.write(contents)"
   ]
  },
  {
   "cell_type": "code",
   "execution_count": null,
   "metadata": {},
   "outputs": [],
   "source": [
    "# 2.2 在 x86 系統中能 Build ARM 的 Images\n",
    "!sudo apt-get update && sudo apt-get install -y --no-install-recommends qemu-user-static binfmt-support"
   ]
  },
  {
   "cell_type": "code",
   "execution_count": null,
   "metadata": {},
   "outputs": [],
   "source": [
    "# 2.3 建立 Module01 的 Docker Image\n",
    "module01_version=\"0.1\"\n",
    "module01_acr_url=container_registry_name+\".azurecr.io/\"+module01_name+\":\"+module01_version\n",
    "!sudo docker build --rm -f ./Python/Case1/module01/Dockerfile01-1 -t $module01_acr_url ./"
   ]
  },
  {
   "cell_type": "code",
   "execution_count": null,
   "metadata": {},
   "outputs": [],
   "source": [
    "# 2.4 替換 deployment-1-temp.json 中的文字並存檔成 deployment-1.json\n",
    "file = open('./acr_password-temp.txt')\n",
    "contents = file.read()\n",
    "contents = contents.replace('__ACR_REGISTRY_PASSWORD', password[0])\n",
    "\n",
    "with open('./acr_password.txt', 'wt', encoding='utf-8') as output_file:\n",
    "    output_file.write(contents)"
   ]
  },
  {
   "cell_type": "code",
   "execution_count": null,
   "metadata": {},
   "outputs": [],
   "source": [
    "# 2.5 Azure Container Registry Login\n",
    "!cat ./acr_password.txt | sudo docker login $acr_url --username $container_registry_name --password-stdin"
   ]
  },
  {
   "cell_type": "code",
   "execution_count": null,
   "metadata": {},
   "outputs": [],
   "source": [
    "# 2.6 將 Docker Image Push 到 Azure Container Registry\n",
    "!sudo docker push $module01_acr_url"
   ]
  },
  {
   "cell_type": "code",
   "execution_count": null,
   "metadata": {},
   "outputs": [],
   "source": [
    "# 2.7 設定 Azure IoT Hub 中 Edge 的 module\n",
    "!az iot edge set-modules --resource-group $resource_group --device-id $device_id --hub-name $hub_name --content ./deployment-1.json"
   ]
  },
  {
   "cell_type": "markdown",
   "metadata": {},
   "source": [
    "### 在 Raspberry Pi 中查看部署狀況\n",
    "* 指令\n",
    "  * sudo iotedge list\n",
    "* 結果\n",
    "  ![-----2019-12-23---2.35.35](https://s3.amazonaws.com/learningsky/2019/12/-----2019-12-23---2.35.35.png)\n",
    "  \n",
    "### 透過瀏覽器測試部署狀況\n",
    "* 開啟瀏覽器輸入下方網址\n",
    "  * http://Raspberry-Pi-IP:8080\n",
    "* 結果\n",
    "  ```\n",
    "  Flask Dockerized on Azure IoT Edge ( Version: 0.1 )\n",
    "  ```"
   ]
  },
  {
   "cell_type": "markdown",
   "metadata": {},
   "source": [
    "# 3. Case2 - 設定與部署 Module01 傳訊息給 Module02 程式"
   ]
  },
  {
   "cell_type": "code",
   "execution_count": null,
   "metadata": {},
   "outputs": [],
   "source": [
    "# 3.1 建立 Module01-2 的 Docker Image\n",
    "module01_version=\"0.2\"\n",
    "module01_acr_url=container_registry_name+\".azurecr.io/\"+module01_name+\":\"+module01_version\n",
    "!sudo docker build --rm -f ./Python/Case2/module01/Dockerfile01-2 -t $module01_acr_url ./"
   ]
  },
  {
   "cell_type": "code",
   "execution_count": null,
   "metadata": {},
   "outputs": [],
   "source": [
    "# 3.2 將 Docker Image Push 到 Azure Container Registry\n",
    "!sudo docker push $module01_acr_url"
   ]
  },
  {
   "cell_type": "code",
   "execution_count": null,
   "metadata": {},
   "outputs": [],
   "source": [
    "# 3.3 建立 Module02 的 Docker Image\n",
    "module02_version=\"0.1\"\n",
    "module02_acr_url=container_registry_name+\".azurecr.io/\"+module02_name+\":\"+module02_version\n",
    "!sudo docker build --rm -f ./Python/Case2/module02/Dockerfile02 -t $module02_acr_url ./"
   ]
  },
  {
   "cell_type": "code",
   "execution_count": null,
   "metadata": {},
   "outputs": [],
   "source": [
    "# 3.4 將 module02 的 Docker Image Push 到 Azure Container Registry\n",
    "!sudo docker push $module02_acr_url"
   ]
  },
  {
   "cell_type": "code",
   "execution_count": null,
   "metadata": {},
   "outputs": [],
   "source": [
    "# 3.5 替換 deployment-2-temp.json 中的文字並存檔成 deployment-2.json\n",
    "file = open('./deployment-2-temp.json')\n",
    "contents = file.read()\n",
    "contents = contents.replace('__ACR_REGISTRY_NAME', registry_name[0])\n",
    "contents = contents.replace('__ACR_REGISTRY_USER_NAME', username[0])\n",
    "contents = contents.replace('__ACR_REGISTRY_PASSWORD', password[0])\n",
    "contents = contents.replace('__MODULE01_NAME', module01_name)\n",
    "contents = contents.replace('__MODULE01_VERSION', module01_version)\n",
    "contents = contents.replace('__MODULE02_NAME', module02_name)\n",
    "contents = contents.replace('__MODULE02_VERSION', module02_version)\n",
    "\n",
    "with open('./deployment-2.json', 'wt', encoding='utf-8') as output_file:\n",
    "    output_file.write(contents)"
   ]
  },
  {
   "cell_type": "code",
   "execution_count": null,
   "metadata": {},
   "outputs": [],
   "source": [
    "# 3.6 設定 Azure IoT Hub 中 Edge 的 module\n",
    "!az iot edge set-modules --resource-group $resource_group --device-id $device_id --hub-name $hub_name --content ./deployment-2.json"
   ]
  },
  {
   "cell_type": "markdown",
   "metadata": {},
   "source": [
    "### 在 Raspberry Pi 中查看部署狀況\n",
    "* 指令\n",
    "  * sudo iotedge list\n",
    "* 結果\n",
    "  ![-----2019-12-23---3.50.11](https://s3.amazonaws.com/learningsky/2019/12/-----2019-12-23---3.50.11.png)\n",
    "  \n",
    "### 測試部署狀況\n",
    "* 瀏覽器端\n",
    "  * 開啟瀏覽器輸入下方網址\n",
    "    * http://Raspberry-Pi-IP:8080/message/hello_world\n",
    "  * 瀏覽器顯示結果\n",
    "    ```\n",
    "    Message - hello_world!\n",
    "    ```\n",
    "* Raspberry Pi 端\n",
    "  * 請輸入下方指令\n",
    "    ```\n",
    "    sudo iotedge logs module02\n",
    "    ```\n",
    "  * 顯示結果\n",
    "    ```\n",
    "    Received - hello_world!\n",
    "    ```"
   ]
  },
  {
   "cell_type": "markdown",
   "metadata": {},
   "source": [
    "# 4. Case3 - 設定與部署 Module03 傳訊息給 Azure IoT Hub 程式 <br>  ( send_message_to_output )"
   ]
  },
  {
   "cell_type": "code",
   "execution_count": null,
   "metadata": {},
   "outputs": [],
   "source": [
    "# 4.1 建立 Module03 的 Docker Image\n",
    "module03_acr_url=container_registry_name+\".azurecr.io/\"+module03_name+\":\"+module03_version\n",
    "!sudo docker build --rm -f ./Python/Case3/module03/Dockerfile03 -t $module03_acr_url ./"
   ]
  },
  {
   "cell_type": "code",
   "execution_count": null,
   "metadata": {},
   "outputs": [],
   "source": [
    "# 4.2 將 module03 的 Docker Image Push 到 Azure Container Registry\n",
    "!sudo docker push $module03_acr_url"
   ]
  },
  {
   "cell_type": "code",
   "execution_count": null,
   "metadata": {},
   "outputs": [],
   "source": [
    "# 4.3 替換 deployment-3-temp.json 中的文字並存檔成 deployment-3.json\n",
    "file = open('./deployment-3-temp.json')\n",
    "contents = file.read()\n",
    "contents = contents.replace('__ACR_REGISTRY_NAME', registry_name[0])\n",
    "contents = contents.replace('__ACR_REGISTRY_USER_NAME', username[0])\n",
    "contents = contents.replace('__ACR_REGISTRY_PASSWORD', password[0])\n",
    "contents = contents.replace('__MODULE01_NAME', module01_name)\n",
    "contents = contents.replace('__MODULE01_VERSION', module01_version)\n",
    "contents = contents.replace('__MODULE02_NAME', module02_name)\n",
    "contents = contents.replace('__MODULE02_VERSION', module02_version)\n",
    "contents = contents.replace('__MODULE03_NAME', module03_name)\n",
    "contents = contents.replace('__MODULE03_VERSION', module03_version)\n",
    "\n",
    "with open('./deployment-3.json', 'wt', encoding='utf-8') as output_file:\n",
    "    output_file.write(contents)"
   ]
  },
  {
   "cell_type": "code",
   "execution_count": null,
   "metadata": {},
   "outputs": [],
   "source": [
    "# 4.4 設定 Azure IoT Hub 中 Edge 的 module\n",
    "!az iot edge set-modules --resource-group $resource_group --device-id $device_id --hub-name $hub_name --content ./deployment-3.json"
   ]
  },
  {
   "cell_type": "code",
   "execution_count": null,
   "metadata": {},
   "outputs": [],
   "source": [
    "# 4.5 從 Azure IoT Hub 查看 Device to Cloud (D2C) 的訊息\n",
    "!az iot hub monitor-events --y --resource-group $resource_group --hub-name $hub_name --device-id $device_id"
   ]
  },
  {
   "cell_type": "markdown",
   "metadata": {},
   "source": [
    "# 5. Case4 - 設定與部署 Module04 傳訊息給 Azure IoT Hub 程式 <br>  ( send_message )"
   ]
  },
  {
   "cell_type": "code",
   "execution_count": null,
   "metadata": {},
   "outputs": [],
   "source": [
    "# 5.1 取得 Azure IoT Edge 的 Connection String\n",
    "connection_string = !az iot hub device-identity show-connection-string --resource-group $resource_group --device-id $device_id --hub-name $hub_name | grep -o '\"connectionString\": \"[^\"]*' | grep -o '[^\"]*$'\n",
    "connection_string = \"CONNECTION_STRING=\" + connection_string[0]\n",
    "with open(\".env\", 'wt', encoding='utf-8') as output_file:\n",
    "    output_file.write(connection_string)"
   ]
  },
  {
   "cell_type": "code",
   "execution_count": null,
   "metadata": {},
   "outputs": [],
   "source": [
    "# 5.2 建立 Module04 的 Docker Image\n",
    "module04_version=\"0.19\"\n",
    "module04_acr_url=container_registry_name+\".azurecr.io/\"+module04_name+\":\"+module04_version\n",
    "!sudo docker build --rm -f ./Python/Case4/module04/Dockerfile04 -t $module04_acr_url ./"
   ]
  },
  {
   "cell_type": "code",
   "execution_count": null,
   "metadata": {},
   "outputs": [],
   "source": [
    "# 5.3 將 module04 的 Docker Image Push 到 Azure Container Registry\n",
    "!sudo docker push $module04_acr_url"
   ]
  },
  {
   "cell_type": "code",
   "execution_count": null,
   "metadata": {},
   "outputs": [],
   "source": [
    "# 5.4 替換 deployment-4-temp.json 中的文字並存檔成 deployment-4.json\n",
    "file = open('./deployment-4-temp.json')\n",
    "contents = file.read()\n",
    "contents = contents.replace('__ACR_REGISTRY_NAME', registry_name[0])\n",
    "contents = contents.replace('__ACR_REGISTRY_USER_NAME', username[0])\n",
    "contents = contents.replace('__ACR_REGISTRY_PASSWORD', password[0])\n",
    "contents = contents.replace('__MODULE04_NAME', module04_name)\n",
    "contents = contents.replace('__MODULE04_VERSION', module04_version)\n",
    "\n",
    "with open('./deployment-4.json', 'wt', encoding='utf-8') as output_file:\n",
    "    output_file.write(contents)"
   ]
  },
  {
   "cell_type": "code",
   "execution_count": null,
   "metadata": {},
   "outputs": [],
   "source": [
    "# 5.5 設定 Azure IoT Hub 中 Edge 的 module\n",
    "!az iot edge set-modules --resource-group $resource_group --device-id $device_id --hub-name $hub_name --content ./deployment-4.json"
   ]
  },
  {
   "cell_type": "code",
   "execution_count": null,
   "metadata": {},
   "outputs": [],
   "source": [
    "# 5.6 從 Azure IoT Hub 查看 Device to Cloud (D2C) 的訊息\n",
    "!az iot hub monitor-events --y --resource-group $resource_group --hub-name $hub_name --device-id $device_id"
   ]
  },
  {
   "cell_type": "markdown",
   "metadata": {},
   "source": [
    "# 6. Case5 - 設定與部署 Module05 接收來自 Azure IoT Hub 的訊息 <br>  ( receive_message )"
   ]
  },
  {
   "cell_type": "code",
   "execution_count": null,
   "metadata": {},
   "outputs": [],
   "source": [
    "# 6.1 取得 Azure IoT Edge 的 Connection String\n",
    "connection_string = !az iot hub device-identity show-connection-string --resource-group $resource_group --device-id $device_id --hub-name $hub_name | grep -o '\"connectionString\": \"[^\"]*' | grep -o '[^\"]*$'\n",
    "connection_string = \"CONNECTION_STRING=\" + connection_string[0]\n",
    "with open(\".env\", 'wt', encoding='utf-8') as output_file:\n",
    "    output_file.write(connection_string)"
   ]
  },
  {
   "cell_type": "code",
   "execution_count": null,
   "metadata": {},
   "outputs": [],
   "source": [
    "# 6.2 建立 Module05 的 Docker Image\n",
    "module05_version=\"0.3\"\n",
    "module05_acr_url=container_registry_name+\".azurecr.io/\"+module05_name+\":\"+module05_version\n",
    "!sudo docker build --rm -f ./Python/Case5/module05/Dockerfile05 -t $module05_acr_url ./"
   ]
  },
  {
   "cell_type": "code",
   "execution_count": null,
   "metadata": {},
   "outputs": [],
   "source": [
    "# 6.3 將 module05 的 Docker Image Push 到 Azure Container Registry\n",
    "!sudo docker push $module05_acr_url"
   ]
  },
  {
   "cell_type": "code",
   "execution_count": null,
   "metadata": {},
   "outputs": [],
   "source": [
    "# 6.4 替換 deployment-5-temp.json 中的文字並存檔成 deployment-5.json\n",
    "file = open('./deployment-5-temp.json')\n",
    "contents = file.read()\n",
    "contents = contents.replace('__ACR_REGISTRY_NAME', registry_name[0])\n",
    "contents = contents.replace('__ACR_REGISTRY_USER_NAME', username[0])\n",
    "contents = contents.replace('__ACR_REGISTRY_PASSWORD', password[0])\n",
    "contents = contents.replace('__MODULE05_NAME', module05_name)\n",
    "contents = contents.replace('__MODULE05_VERSION', module05_version)\n",
    "\n",
    "with open('./deployment-5.json', 'wt', encoding='utf-8') as output_file:\n",
    "    output_file.write(contents)"
   ]
  },
  {
   "cell_type": "code",
   "execution_count": null,
   "metadata": {},
   "outputs": [],
   "source": [
    "# 6.5 設定 Azure IoT Hub 中 Edge 的 module\n",
    "!az iot edge set-modules --resource-group $resource_group --device-id $device_id --hub-name $hub_name --content ./deployment-5.json"
   ]
  },
  {
   "cell_type": "code",
   "execution_count": null,
   "metadata": {},
   "outputs": [],
   "source": [
    "# 6.6 從 Azure IoT Hub 傳送訊息到 Device - Cloud to Device (C2D)\n",
    "message=\"'Hello World'\"\n",
    "!az iot device c2d-message send --resource-group $resource_group --hub-name $hub_name --device-id $device_id  --data $message"
   ]
  },
  {
   "cell_type": "markdown",
   "metadata": {},
   "source": [
    "### 測試部署狀況\n",
    "* Raspberry Pi 端\n",
    "  * 請輸入下方指令\n",
    "    ```\n",
    "    sudo iotedge logs module05\n",
    "    ```\n",
    "  * 顯示結果\n",
    "    ```\n",
    "    Received - hello_world!\n",
    "    ```"
   ]
  },
  {
   "cell_type": "markdown",
   "metadata": {},
   "source": [
    "# 7. 移除相關設定"
   ]
  },
  {
   "cell_type": "code",
   "execution_count": null,
   "metadata": {},
   "outputs": [],
   "source": [
    "# 7.1 移除 deployment.json & acr_password.txt\n",
    "!rm deployment-1.json deployment-2.json deployment-3.json acr_password.txt"
   ]
  },
  {
   "cell_type": "code",
   "execution_count": null,
   "metadata": {},
   "outputs": [],
   "source": [
    "# 7.2 移除 Azure IoT Hub & Azure Container Registry & Resource Group\n",
    "!az acr delete --name $container_registry_name --resource-group $resource_group\n",
    "!az iot hub delete --name $hub_name --resource-group $resource_group\n",
    "!az group delete --yes --name $resource_group"
   ]
  },
  {
   "cell_type": "code",
   "execution_count": null,
   "metadata": {},
   "outputs": [],
   "source": []
  }
 ],
 "metadata": {
  "kernelspec": {
   "display_name": "Python 3",
   "language": "python",
   "name": "python3"
  },
  "language_info": {
   "codemirror_mode": {
    "name": "ipython",
    "version": 3
   },
   "file_extension": ".py",
   "mimetype": "text/x-python",
   "name": "python",
   "nbconvert_exporter": "python",
   "pygments_lexer": "ipython3",
   "version": "3.6.8"
  }
 },
 "nbformat": 4,
 "nbformat_minor": 2
}
